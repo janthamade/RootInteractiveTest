{
 "cells": [
  {
   "cell_type": "code",
   "execution_count": null,
   "metadata": {},
   "outputs": [],
   "source": [
    "from bokeh.io import output_notebook\n",
    "from RootInteractive.Tools.aliTreePlayer import *\n",
    "from RootInteractive.InteractiveDrawing.bokeh.bokehDrawSA import *\n",
    "from RootInteractive.Tools.aliTreePlayer import *\n",
    "from bokeh.io import curdoc\n",
    "import numpy as np\n",
    "import os\n",
    "import sys\n",
    "from ROOT import TFile, gSystem\n",
    "from RootInteractive.InteractiveDrawing.bokeh.bokehDrawSA import *\n",
    "from RootInteractive.MLpipeline.NDFunctionInterface import  *\n",
    "import plotly.express as px\n",
    "output_notebook()\n",
    "from IPython.display import Image\n",
    "from IPython.core.display import display, HTML\n",
    "display(HTML(\"<style>.container { width:100% !important; }</style>\"))\n",
    "import matplotlib.pyplot as plt\n",
    "from bokeh.transform import factor_cmap, factor_mark\n",
    "\n",
    "from scipy.stats import norm\n",
    "import matplotlib.mlab as mlab\n",
    "import scipy.stats as stats\n",
    "import math"
   ]
  },
  {
   "cell_type": "code",
   "execution_count": null,
   "metadata": {},
   "outputs": [],
   "source": [
    "def simulatePandaDCA():\n",
    "    sigma0=0.1\n",
    "    sigma1=1\n",
    "    qPtSlope=0.1\n",
    "    tglSlope=0.1\n",
    "    entries=1000\n",
    "    # qPt,tgl.mdEdx.alpha, dCA\n",
    "    range=([-5,5],[-1,1],[0,1],[0,2*np.pi],[-10*sigma0-1,10*sigma0+1])\n",
    "    bins=[50,20,20,12,100]\n",
    "    H, edges = np.histogramdd(sample=np.array([[0, 0, 0, 0, 0]]), bins=bins, range=range)\n",
    "    indexH = np.arange(H.size)\n",
    "    indexC = np.unravel_index(indexH, bins)\n",
    "    qPtCenter = (edges[0][indexC[0]]+edges[0][indexC[0]+1])*.5\n",
    "    tgl       = (edges[1][indexC[1]]+edges[1][indexC[1]+1])*.5\n",
    "    mdEdx     = (edges[2][indexC[2]]+edges[2][indexC[2]+1])*.5\n",
    "    alpha     = (edges[3][indexC[3]]+edges[3][indexC[3]+1])*.5\n",
    "    #\n",
    "    valueMean=qPtCenter*qPtSlope+tgl*tglSlope\n",
    "    value = edges[4][indexC[4]]\n",
    "    valueSigma = sigma0 * np.sqrt(1 + sigma1 * mdEdx * qPtCenter * qPtCenter)\n",
    "    weight = np.exp(-(value-valueMean)**2 / (2 * valueSigma * valueSigma))\n",
    "    weightPoisson = np.random.poisson(weight * entries, H.size)\n",
    "    H = weightPoisson\n",
    "    df = pd.DataFrame({\"qPtCenter\": qPtCenter, \"tglCenter\": tgl, \"mdEdxCenter\": mdEdx, \"V\":value, \"alphaCenter\":alpha, \"mean\":valueMean,\"rms\":valueSigma,\"weight\": H})\n",
    "    return df"
   ]
  },
  {
   "cell_type": "code",
   "execution_count": null,
   "metadata": {},
   "outputs": [],
   "source": [
    "%%time\n",
    "df = simulatePandaDCA()\n",
    "df[\"Vcorr\"]=df[\"V\"]-df[\"mean\"]\n",
    "df.head(5)"
   ]
  },
  {
   "cell_type": "code",
   "execution_count": null,
   "metadata": {},
   "outputs": [],
   "source": [
    "output_file(\"dcaCompressionDemo.html\")    \n",
    "optionsAll={\"colorZvar\":\"mdEdxCenter\"}\n",
    "df[\"Vcorr\"]=df[\"V\"]-df[\"mean\"]\n",
    "figureArray = [\n",
    "    [['qPtCenter'], ['mean'], optionsAll],\n",
    "    [['tglCenter'], ['mean'], optionsAll],\n",
    "    [['qPtCenter'], ['tglCenter'],{\"color\": \"red\", \"size\": 2, \"colorZvar\": \"mean\", \"varZ\": \"mean\"}], \n",
    "    [['V'], ['weight'], optionsAll],\n",
    "    [['V'], ['histo'], {\"range_min\":-2, \"range_max\":2,\"weights\":\"weight\",\"nbins\":100}],\n",
    "    [['Vcorr'], ['histo'], {\"range_min\":-2, \"range_max\":2,\"weights\":\"weight\",\"nbins\":100}],\n",
    "]\n",
    "\n",
    "widgetParams=[\n",
    "    ['range', ['tglCenter']],\n",
    "    ['range', ['qPtCenter']],\n",
    "    ['range', ['mdEdxCenter']],\n",
    "    ['range', ['alphaCenter']],\n",
    "]\n",
    "tooltips = [(\"qPtMean\", \"@qPtMean\")]\n",
    "widgetLayoutDesc=[ [0,1],[2,3], {'sizing_mode':'scale_width'} ]\n",
    "figureLayoutDesc=[\n",
    "    [0,1, {'plot_height':150,'x_visible':1}],\n",
    "    [2,3, {'plot_height':150,'x_visible':1}],\n",
    "    [4,5, {'plot_height':250,'x_visible':1}],\n",
    "    {'plot_height':250,'sizing_mode':'scale_width',\"legend_visible\":True}\n",
    "]\n",
    "fig=bokehDrawSA.fromArray(df.sample(100000), \"rms>0\", figureArray, widgetParams,layout=figureLayoutDesc,tooltips=tooltips,sizing_mode='scale_width',widgetLayout=widgetLayoutDesc, nPointRender=10000,rescaleColorMapper=True)"
   ]
  },
  {
   "cell_type": "code",
   "execution_count": null,
   "metadata": {},
   "outputs": [],
   "source": [
    "(8*1000000*4)/10**6"
   ]
  },
  {
   "cell_type": "code",
   "execution_count": null,
   "metadata": {},
   "outputs": [],
   "source": [
    "df.shape"
   ]
  },
  {
   "cell_type": "code",
   "execution_count": null,
   "metadata": {},
   "outputs": [],
   "source": [
    "(24000000* 8*4)/10**6"
   ]
  },
  {
   "cell_type": "code",
   "execution_count": null,
   "metadata": {},
   "outputs": [],
   "source": []
  }
 ],
 "metadata": {
  "kernelspec": {
   "display_name": "Python 3",
   "language": "python",
   "name": "python3"
  },
  "language_info": {
   "codemirror_mode": {
    "name": "ipython",
    "version": 3
   },
   "file_extension": ".py",
   "mimetype": "text/x-python",
   "name": "python",
   "nbconvert_exporter": "python",
   "pygments_lexer": "ipython3",
   "version": "3.6.9"
  }
 },
 "nbformat": 4,
 "nbformat_minor": 2
}
