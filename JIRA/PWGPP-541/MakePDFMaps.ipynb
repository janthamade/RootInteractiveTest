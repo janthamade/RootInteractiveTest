{
 "cells": [
  {
   "cell_type": "code",
   "execution_count": 1,
   "metadata": {},
   "outputs": [
    {
     "name": "stdout",
     "output_type": "stream",
     "text": [
      "Welcome to JupyROOT 6.15/02\n"
     ]
    }
   ],
   "source": [
    "from RootInteractive.Tools.histoNDTools import *"
   ]
  },
  {
   "cell_type": "markdown",
   "metadata": {},
   "source": [
    "# Random Data Frame generator"
   ]
  },
  {
   "cell_type": "code",
   "execution_count": 2,
   "metadata": {},
   "outputs": [
    {
     "data": {
      "text/html": [
       "<div>\n",
       "<style scoped>\n",
       "    .dataframe tbody tr th:only-of-type {\n",
       "        vertical-align: middle;\n",
       "    }\n",
       "\n",
       "    .dataframe tbody tr th {\n",
       "        vertical-align: top;\n",
       "    }\n",
       "\n",
       "    .dataframe thead th {\n",
       "        text-align: right;\n",
       "    }\n",
       "</style>\n",
       "<table border=\"1\" class=\"dataframe\">\n",
       "  <thead>\n",
       "    <tr style=\"text-align: right;\">\n",
       "      <th></th>\n",
       "      <th>A</th>\n",
       "      <th>B</th>\n",
       "      <th>C</th>\n",
       "      <th>D</th>\n",
       "      <th>noise</th>\n",
       "      <th>csin</th>\n",
       "      <th>valueOrig</th>\n",
       "      <th>value</th>\n",
       "    </tr>\n",
       "  </thead>\n",
       "  <tbody>\n",
       "    <tr>\n",
       "      <th>9995</th>\n",
       "      <td>0.675872</td>\n",
       "      <td>0.898350</td>\n",
       "      <td>0.672147</td>\n",
       "      <td>0.396875</td>\n",
       "      <td>-0.097730</td>\n",
       "      <td>-0.881716</td>\n",
       "      <td>-12.379060</td>\n",
       "      <td>-12.476790</td>\n",
       "    </tr>\n",
       "    <tr>\n",
       "      <th>9996</th>\n",
       "      <td>0.656222</td>\n",
       "      <td>0.559829</td>\n",
       "      <td>0.164708</td>\n",
       "      <td>0.491056</td>\n",
       "      <td>-0.059501</td>\n",
       "      <td>0.859538</td>\n",
       "      <td>5.265761</td>\n",
       "      <td>5.206260</td>\n",
       "    </tr>\n",
       "    <tr>\n",
       "      <th>9997</th>\n",
       "      <td>0.530604</td>\n",
       "      <td>0.919275</td>\n",
       "      <td>0.149171</td>\n",
       "      <td>0.721606</td>\n",
       "      <td>-0.007917</td>\n",
       "      <td>0.805664</td>\n",
       "      <td>13.232302</td>\n",
       "      <td>13.224385</td>\n",
       "    </tr>\n",
       "    <tr>\n",
       "      <th>9998</th>\n",
       "      <td>0.447976</td>\n",
       "      <td>0.679730</td>\n",
       "      <td>0.753563</td>\n",
       "      <td>0.550502</td>\n",
       "      <td>-0.011271</td>\n",
       "      <td>-0.999800</td>\n",
       "      <td>-7.234872</td>\n",
       "      <td>-7.246144</td>\n",
       "    </tr>\n",
       "    <tr>\n",
       "      <th>9999</th>\n",
       "      <td>0.168503</td>\n",
       "      <td>0.825680</td>\n",
       "      <td>0.839731</td>\n",
       "      <td>0.118031</td>\n",
       "      <td>0.125683</td>\n",
       "      <td>-0.846658</td>\n",
       "      <td>-9.911788</td>\n",
       "      <td>-9.786105</td>\n",
       "    </tr>\n",
       "  </tbody>\n",
       "</table>\n",
       "</div>"
      ],
      "text/plain": [
       "             A         B         C         D     noise      csin  valueOrig  \\\n",
       "9995  0.675872  0.898350  0.672147  0.396875 -0.097730 -0.881716 -12.379060   \n",
       "9996  0.656222  0.559829  0.164708  0.491056 -0.059501  0.859538   5.265761   \n",
       "9997  0.530604  0.919275  0.149171  0.721606 -0.007917  0.805664  13.232302   \n",
       "9998  0.447976  0.679730  0.753563  0.550502 -0.011271 -0.999800  -7.234872   \n",
       "9999  0.168503  0.825680  0.839731  0.118031  0.125683 -0.846658  -9.911788   \n",
       "\n",
       "          value  \n",
       "9995 -12.476790  \n",
       "9996   5.206260  \n",
       "9997  13.224385  \n",
       "9998  -7.246144  \n",
       "9999  -9.786105  "
      ]
     },
     "execution_count": 2,
     "metadata": {},
     "output_type": "execute_result"
    }
   ],
   "source": [
    "npoints=10000\n",
    "df = pd.DataFrame(np.random.random_sample(size=(npoints, 4)), columns=list('ABCD'))\n",
    "df[\"noise\"]=np.random.normal(0, 0.1, npoints)\n",
    "df[\"csin\"]=np.sin(6.28*df[\"C\"])\n",
    "df[\"valueOrig\"]=df[\"A\"]+np.exp(3*df[\"B\"])*df[\"csin\"]\n",
    "df[\"value\"]=df[\"valueOrig\"]+df[\"noise\"]\n",
    "df.tail()\n"
   ]
  },
  {
   "cell_type": "markdown",
   "metadata": {},
   "source": [
    "# Make Histogram"
   ]
  },
  {
   "cell_type": "code",
   "execution_count": 3,
   "metadata": {},
   "outputs": [],
   "source": [
    "histo=makeHistogram(df,\"value:A:B:C:D:#A>0>>myhisto(50,-25,25,40,0,1,30,0,1,20,0,1,10,0,1)\")\n"
   ]
  },
  {
   "cell_type": "markdown",
   "metadata": {},
   "source": [
    "# Inputs"
   ]
  },
  {
   "cell_type": "code",
   "execution_count": 4,
   "metadata": {},
   "outputs": [],
   "source": [
    "slices=((0,50,1,0),(10,30,1,4),(10,24,5,3),(10,16,2,2),(0,10,3,0))   # start:stop:step:width\n",
    "dimI=0                                                               # dimension of interest  "
   ]
  },
  {
   "cell_type": "markdown",
   "metadata": {},
   "source": [
    "# The Code of the function"
   ]
  },
  {
   "cell_type": "markdown",
   "metadata": {},
   "source": [
    "### Width modification"
   ]
  },
  {
   "cell_type": "code",
   "execution_count": 5,
   "metadata": {},
   "outputs": [
    {
     "name": "stdout",
     "output_type": "stream",
     "text": [
      "[0, 4, 3, 2, 0]\n",
      "(50, 32, 24, 16, 10)\n",
      "(51,) (50,)\n",
      "(33,) (32,)\n",
      "(25,) (24,)\n",
      "(17,) (16,)\n",
      "(11,) (10,)\n",
      "[array([ 0,  1,  2,  3,  4,  5,  6,  7,  8,  9, 10, 11, 12, 13, 14, 15, 16,\n",
      "       17, 18, 19, 20, 21, 22, 23, 24, 25, 26, 27, 28, 29, 30, 31, 32, 33,\n",
      "       34, 35, 36, 37, 38, 39, 40, 41, 42, 43, 44, 45, 46, 47, 48, 49]), array([ 4,  5,  6,  7,  8,  9, 10, 11, 12, 13, 14, 15, 16, 17, 18, 19, 20,\n",
      "       21, 22, 23, 24, 25, 26, 27, 28, 29, 30, 31, 32, 33, 34, 35]), array([ 3,  4,  5,  6,  7,  8,  9, 10, 11, 12, 13, 14, 15, 16, 17, 18, 19,\n",
      "       20, 21, 22, 23, 24, 25, 26]), array([ 2,  3,  4,  5,  6,  7,  8,  9, 10, 11, 12, 13, 14, 15, 16, 17]), array([0, 1, 2, 3, 4, 5, 6, 7, 8, 9])]\n"
     ]
    }
   ],
   "source": [
    "binList = []                                # Prepare list of bin numbers which has same dimensions with original histogram\n",
    "for el in histo[\"axes\"]:                    #     so same slicing can be applied on the bin list\n",
    "    binList.append(np.arange(len(el)-1))\n",
    "\n",
    "    \n",
    "widthList=[item[3] for item in slices]      # extract the list of widths from slicing tuple\n",
    "localHist = histo[\"H\"].copy()\n",
    "localAxes = histo[\"axes\"].copy()\n",
    "\n",
    "\n",
    "for iDim, w in enumerate(widthList):          # get the original histogram and shifted histograms by +/- i,\n",
    "    widthSliceList=[]                         #     where i is all integers upto width, sum all histograms \n",
    "    L=localHist.shape[iDim]\n",
    "    \n",
    "    iSlice=[slice(None)]*len(localHist.shape)\n",
    "    iSlice[iDim]=slice(w,L-w)\n",
    "    dummy=localHist[tuple(iSlice)] \n",
    "    \n",
    "    for i in range(1,w+1):\n",
    "        iSlice=[slice(None)]*len(localHist.shape)\n",
    "        iSlice[iDim]=slice(w+i,L-w+i)\n",
    "        dummy+=localHist[tuple(iSlice)]\n",
    "        \n",
    "        iSlice=[slice(None)]*len(localHist.shape)\n",
    "        iSlice[iDim]=slice(w-i,L-w-i)\n",
    "        dummy+=localHist[tuple(iSlice)]\n",
    "        \n",
    "    localHist = dummy\n",
    "    binList[iDim] = binList[iDim][slice(w,L-w)]    # trim the edges\n",
    "    localAxes[iDim] = localAxes[iDim][slice(w,L-w+1)]\n",
    "\n",
    "print(widthList)\n",
    "print(localHist.shape)\n",
    "for a, b in zip(localAxes,binList):\n",
    "    print(a.shape, b.shape)\n",
    "print(binList)\n"
   ]
  },
  {
   "cell_type": "markdown",
   "metadata": {},
   "source": [
    "### Slicing tuple"
   ]
  },
  {
   "cell_type": "code",
   "execution_count": 6,
   "metadata": {},
   "outputs": [
    {
     "name": "stdout",
     "output_type": "stream",
     "text": [
      "(50, 40, 30, 20, 10)\n",
      "(50, 32, 24, 16, 10)\n",
      "((0, 50, 1, 0), (10, 30, 1, 4), (10, 24, 5, 3), (10, 16, 2, 2), (0, 10, 3, 0))\n",
      "[slice(0, 50, 1), slice(6, 26, 1), slice(7, 21, 5), slice(8, 14, 2), slice(0, 10, 3)]\n",
      "(slice(0, 50, 1), slice(6, 26, 1), slice(7, 21, 5), slice(8, 14, 2), slice(0, 10, 3))\n",
      "(slice(0, 51, 1), slice(6, 27, 1), slice(7, 26, 5), slice(8, 16, 2), slice(0, 13, 3))\n",
      "(51,) (51,)\n",
      "(41,) (33,)\n",
      "(31,) (25,)\n",
      "(21,) (17,)\n",
      "(11,) (11,)\n"
     ]
    }
   ],
   "source": [
    "newSliceList=[]\n",
    "for iDim, iSlice in enumerate(slices):    # rearranging slice accourding to width\n",
    "    jSlice=slice(iSlice[0] - iSlice[3], iSlice[1] - iSlice[3], iSlice[2])\n",
    "        \n",
    "    if jSlice.start < 0 or jSlice.stop >  localHist.shape[iDim]:\n",
    "        raise ValueError(\"Range and width of {}th dimension is not compatible: {}\".format(iDim,iSlice))\n",
    "    \n",
    "    newSliceList.append(jSlice)  \n",
    "    \n",
    "    \n",
    "npSlice=tuple(newSliceList)\n",
    "\n",
    "\n",
    "print(histo[\"H\"].shape)\n",
    "print(localHist.shape)\n",
    "print(slices)\n",
    "print(newSliceList)\n",
    "print(npSlice)\n",
    "print(npAxesSlice)\n",
    "for a,b in zip(histo[\"axes\"],localAxes):\n",
    "    print(a.shape, b.shape)"
   ]
  },
  {
   "cell_type": "markdown",
   "metadata": {},
   "source": [
    "### Determine the bin centers"
   ]
  },
  {
   "cell_type": "code",
   "execution_count": 7,
   "metadata": {},
   "outputs": [
    {
     "name": "stdout",
     "output_type": "stream",
     "text": [
      "[array([-24.5, -23.5, -22.5, -21.5, -20.5, -19.5, -18.5, -17.5, -16.5,\n",
      "       -15.5, -14.5, -13.5, -12.5, -11.5, -10.5,  -9.5,  -8.5,  -7.5,\n",
      "        -6.5,  -5.5,  -4.5,  -3.5,  -2.5,  -1.5,  -0.5,   0.5,   1.5,\n",
      "         2.5,   3.5,   4.5,   5.5,   6.5,   7.5,   8.5,   9.5,  10.5,\n",
      "        11.5,  12.5,  13.5,  14.5,  15.5,  16.5,  17.5,  18.5,  19.5,\n",
      "        20.5,  21.5,  22.5,  23.5,  24.5]), array([0.1125, 0.1375, 0.1625, 0.1875, 0.2125, 0.2375, 0.2625, 0.2875,\n",
      "       0.3125, 0.3375, 0.3625, 0.3875, 0.4125, 0.4375, 0.4625, 0.4875,\n",
      "       0.5125, 0.5375, 0.5625, 0.5875, 0.6125, 0.6375, 0.6625, 0.6875,\n",
      "       0.7125, 0.7375, 0.7625, 0.7875, 0.8125, 0.8375, 0.8625, 0.8875]), array([0.11666667, 0.15      , 0.18333333, 0.21666667, 0.25      ,\n",
      "       0.28333333, 0.31666667, 0.35      , 0.38333333, 0.41666667,\n",
      "       0.45      , 0.48333333, 0.51666667, 0.55      , 0.58333333,\n",
      "       0.61666667, 0.65      , 0.68333333, 0.71666667, 0.75      ,\n",
      "       0.78333333, 0.81666667, 0.85      , 0.88333333]), array([0.125, 0.175, 0.225, 0.275, 0.325, 0.375, 0.425, 0.475, 0.525,\n",
      "       0.575, 0.625, 0.675, 0.725, 0.775, 0.825, 0.875]), array([0.05, 0.15, 0.25, 0.35, 0.45, 0.55, 0.65, 0.75, 0.85, 0.95])]\n"
     ]
    }
   ],
   "source": [
    "CenterList = []\n",
    "for arr in localAxes:\n",
    "    arri = arr[:-1] + (arr[1]-arr[0])/2\n",
    "    CenterList.append(arri)\n",
    "    \n",
    "    \n",
    "print(CenterList)"
   ]
  },
  {
   "cell_type": "markdown",
   "metadata": {},
   "source": [
    "### aply the npslice"
   ]
  },
  {
   "cell_type": "code",
   "execution_count": 8,
   "metadata": {},
   "outputs": [
    {
     "name": "stdout",
     "output_type": "stream",
     "text": [
      "[array([ 0,  1,  2,  3,  4,  5,  6,  7,  8,  9, 10, 11, 12, 13, 14, 15, 16,\n",
      "       17, 18, 19, 20, 21, 22, 23, 24, 25, 26, 27, 28, 29, 30, 31, 32, 33,\n",
      "       34, 35, 36, 37, 38, 39, 40, 41, 42, 43, 44, 45, 46, 47, 48, 49]), array([10, 11, 12, 13, 14, 15, 16, 17, 18, 19, 20, 21, 22, 23, 24, 25, 26,\n",
      "       27, 28, 29]), array([10, 15, 20]), array([10, 12, 14]), array([0, 3, 6, 9])]\n",
      "[array([-24.5, -23.5, -22.5, -21.5, -20.5, -19.5, -18.5, -17.5, -16.5,\n",
      "       -15.5, -14.5, -13.5, -12.5, -11.5, -10.5,  -9.5,  -8.5,  -7.5,\n",
      "        -6.5,  -5.5,  -4.5,  -3.5,  -2.5,  -1.5,  -0.5,   0.5,   1.5,\n",
      "         2.5,   3.5,   4.5,   5.5,   6.5,   7.5,   8.5,   9.5,  10.5,\n",
      "        11.5,  12.5,  13.5,  14.5,  15.5,  16.5,  17.5,  18.5,  19.5,\n",
      "        20.5,  21.5,  22.5,  23.5,  24.5]), array([0.2625, 0.2875, 0.3125, 0.3375, 0.3625, 0.3875, 0.4125, 0.4375,\n",
      "       0.4625, 0.4875, 0.5125, 0.5375, 0.5625, 0.5875, 0.6125, 0.6375,\n",
      "       0.6625, 0.6875, 0.7125, 0.7375]), array([0.35      , 0.51666667, 0.68333333]), array([0.525, 0.625, 0.725]), array([0.05, 0.35, 0.65, 0.95])]\n"
     ]
    }
   ],
   "source": [
    "histogram = localHist[npSlice]\n",
    "localCenter = []\n",
    "localNumbers = []\n",
    "\n",
    "for i,(b,c) in enumerate(zip(binList,CenterList)):\n",
    "    localNumbers.append(b[npSlice[i]])\n",
    "    localCenter.append(c[npSlice[i]])\n",
    "    \n",
    "print(localNumbers)\n",
    "print(localCenter)"
   ]
  },
  {
   "cell_type": "markdown",
   "metadata": {},
   "source": [
    "# Bin Number"
   ]
  },
  {
   "cell_type": "code",
   "execution_count": 9,
   "metadata": {},
   "outputs": [],
   "source": [
    "mesharrayNumbers = np.array(np.meshgrid(*localNumbers, indexing='ij'))"
   ]
  },
  {
   "cell_type": "code",
   "execution_count": 10,
   "metadata": {},
   "outputs": [],
   "source": [
    "binNumbers = []\n",
    "for el in mesharrayNumbers:\n",
    "    binNumbers.append(el.flatten())"
   ]
  },
  {
   "cell_type": "markdown",
   "metadata": {},
   "source": [
    "# Bin Center"
   ]
  },
  {
   "cell_type": "code",
   "execution_count": 11,
   "metadata": {},
   "outputs": [],
   "source": [
    "mesharrayCenter = np.array(np.meshgrid(*localCenter, indexing='ij'))"
   ]
  },
  {
   "cell_type": "code",
   "execution_count": 12,
   "metadata": {},
   "outputs": [],
   "source": [
    "binCenters = []\n",
    "for el in mesharrayCenter:\n",
    "    binCenters.append(el.flatten())"
   ]
  },
  {
   "cell_type": "code",
   "execution_count": 17,
   "metadata": {},
   "outputs": [
    {
     "name": "stdout",
     "output_type": "stream",
     "text": [
      "36000\n",
      "36000\n",
      "36000\n",
      "36000\n",
      "36000\n",
      "36000\n",
      "36000\n",
      "36000\n",
      "(720,)\n"
     ]
    },
    {
     "ename": "ValueError",
     "evalue": "arrays must all be same length",
     "output_type": "error",
     "traceback": [
      "\u001b[0;31m---------------------------------------------------------------------------\u001b[0m",
      "\u001b[0;31mValueError\u001b[0m                                Traceback (most recent call last)",
      "\u001b[0;32m<ipython-input-17-2bcb4c7857b5>\u001b[0m in \u001b[0;36m<module>\u001b[0;34m\u001b[0m\n\u001b[1;32m     20\u001b[0m \u001b[0mhistogramMap\u001b[0m\u001b[0;34m[\u001b[0m\u001b[0;34m\"medians\"\u001b[0m\u001b[0;34m]\u001b[0m \u001b[0;34m=\u001b[0m \u001b[0mmedians\u001b[0m\u001b[0;34m\u001b[0m\u001b[0;34m\u001b[0m\u001b[0m\n\u001b[1;32m     21\u001b[0m \u001b[0mhistogramMap\u001b[0m\u001b[0;34m[\u001b[0m\u001b[0;34m\"entries\"\u001b[0m\u001b[0;34m]\u001b[0m \u001b[0;34m=\u001b[0m \u001b[0mentries\u001b[0m\u001b[0;34m\u001b[0m\u001b[0;34m\u001b[0m\u001b[0m\n\u001b[0;32m---> 22\u001b[0;31m \u001b[0mout\u001b[0m\u001b[0;34m=\u001b[0m\u001b[0mpd\u001b[0m\u001b[0;34m.\u001b[0m\u001b[0mDataFrame\u001b[0m\u001b[0;34m(\u001b[0m\u001b[0mhistogramMap\u001b[0m\u001b[0;34m)\u001b[0m\u001b[0;34m\u001b[0m\u001b[0;34m\u001b[0m\u001b[0m\n\u001b[0m",
      "\u001b[0;32m~/software/alice/sw/ubuntu1804_x86-64/Python-modules/1.0-1/lib/python/site-packages/pandas/core/frame.py\u001b[0m in \u001b[0;36m__init__\u001b[0;34m(self, data, index, columns, dtype, copy)\u001b[0m\n\u001b[1;32m    390\u001b[0m                                  dtype=dtype, copy=copy)\n\u001b[1;32m    391\u001b[0m         \u001b[0;32melif\u001b[0m \u001b[0misinstance\u001b[0m\u001b[0;34m(\u001b[0m\u001b[0mdata\u001b[0m\u001b[0;34m,\u001b[0m \u001b[0mdict\u001b[0m\u001b[0;34m)\u001b[0m\u001b[0;34m:\u001b[0m\u001b[0;34m\u001b[0m\u001b[0;34m\u001b[0m\u001b[0m\n\u001b[0;32m--> 392\u001b[0;31m             \u001b[0mmgr\u001b[0m \u001b[0;34m=\u001b[0m \u001b[0minit_dict\u001b[0m\u001b[0;34m(\u001b[0m\u001b[0mdata\u001b[0m\u001b[0;34m,\u001b[0m \u001b[0mindex\u001b[0m\u001b[0;34m,\u001b[0m \u001b[0mcolumns\u001b[0m\u001b[0;34m,\u001b[0m \u001b[0mdtype\u001b[0m\u001b[0;34m=\u001b[0m\u001b[0mdtype\u001b[0m\u001b[0;34m)\u001b[0m\u001b[0;34m\u001b[0m\u001b[0;34m\u001b[0m\u001b[0m\n\u001b[0m\u001b[1;32m    393\u001b[0m         \u001b[0;32melif\u001b[0m \u001b[0misinstance\u001b[0m\u001b[0;34m(\u001b[0m\u001b[0mdata\u001b[0m\u001b[0;34m,\u001b[0m \u001b[0mma\u001b[0m\u001b[0;34m.\u001b[0m\u001b[0mMaskedArray\u001b[0m\u001b[0;34m)\u001b[0m\u001b[0;34m:\u001b[0m\u001b[0;34m\u001b[0m\u001b[0;34m\u001b[0m\u001b[0m\n\u001b[1;32m    394\u001b[0m             \u001b[0;32mimport\u001b[0m \u001b[0mnumpy\u001b[0m\u001b[0;34m.\u001b[0m\u001b[0mma\u001b[0m\u001b[0;34m.\u001b[0m\u001b[0mmrecords\u001b[0m \u001b[0;32mas\u001b[0m \u001b[0mmrecords\u001b[0m\u001b[0;34m\u001b[0m\u001b[0;34m\u001b[0m\u001b[0m\n",
      "\u001b[0;32m~/software/alice/sw/ubuntu1804_x86-64/Python-modules/1.0-1/lib/python/site-packages/pandas/core/internals/construction.py\u001b[0m in \u001b[0;36minit_dict\u001b[0;34m(data, index, columns, dtype)\u001b[0m\n\u001b[1;32m    210\u001b[0m         \u001b[0marrays\u001b[0m \u001b[0;34m=\u001b[0m \u001b[0;34m[\u001b[0m\u001b[0mdata\u001b[0m\u001b[0;34m[\u001b[0m\u001b[0mk\u001b[0m\u001b[0;34m]\u001b[0m \u001b[0;32mfor\u001b[0m \u001b[0mk\u001b[0m \u001b[0;32min\u001b[0m \u001b[0mkeys\u001b[0m\u001b[0;34m]\u001b[0m\u001b[0;34m\u001b[0m\u001b[0;34m\u001b[0m\u001b[0m\n\u001b[1;32m    211\u001b[0m \u001b[0;34m\u001b[0m\u001b[0m\n\u001b[0;32m--> 212\u001b[0;31m     \u001b[0;32mreturn\u001b[0m \u001b[0marrays_to_mgr\u001b[0m\u001b[0;34m(\u001b[0m\u001b[0marrays\u001b[0m\u001b[0;34m,\u001b[0m \u001b[0mdata_names\u001b[0m\u001b[0;34m,\u001b[0m \u001b[0mindex\u001b[0m\u001b[0;34m,\u001b[0m \u001b[0mcolumns\u001b[0m\u001b[0;34m,\u001b[0m \u001b[0mdtype\u001b[0m\u001b[0;34m=\u001b[0m\u001b[0mdtype\u001b[0m\u001b[0;34m)\u001b[0m\u001b[0;34m\u001b[0m\u001b[0;34m\u001b[0m\u001b[0m\n\u001b[0m\u001b[1;32m    213\u001b[0m \u001b[0;34m\u001b[0m\u001b[0m\n\u001b[1;32m    214\u001b[0m \u001b[0;34m\u001b[0m\u001b[0m\n",
      "\u001b[0;32m~/software/alice/sw/ubuntu1804_x86-64/Python-modules/1.0-1/lib/python/site-packages/pandas/core/internals/construction.py\u001b[0m in \u001b[0;36marrays_to_mgr\u001b[0;34m(arrays, arr_names, index, columns, dtype)\u001b[0m\n\u001b[1;32m     49\u001b[0m     \u001b[0;31m# figure out the index, if necessary\u001b[0m\u001b[0;34m\u001b[0m\u001b[0;34m\u001b[0m\u001b[0;34m\u001b[0m\u001b[0m\n\u001b[1;32m     50\u001b[0m     \u001b[0;32mif\u001b[0m \u001b[0mindex\u001b[0m \u001b[0;32mis\u001b[0m \u001b[0;32mNone\u001b[0m\u001b[0;34m:\u001b[0m\u001b[0;34m\u001b[0m\u001b[0;34m\u001b[0m\u001b[0m\n\u001b[0;32m---> 51\u001b[0;31m         \u001b[0mindex\u001b[0m \u001b[0;34m=\u001b[0m \u001b[0mextract_index\u001b[0m\u001b[0;34m(\u001b[0m\u001b[0marrays\u001b[0m\u001b[0;34m)\u001b[0m\u001b[0;34m\u001b[0m\u001b[0;34m\u001b[0m\u001b[0m\n\u001b[0m\u001b[1;32m     52\u001b[0m     \u001b[0;32melse\u001b[0m\u001b[0;34m:\u001b[0m\u001b[0;34m\u001b[0m\u001b[0;34m\u001b[0m\u001b[0m\n\u001b[1;32m     53\u001b[0m         \u001b[0mindex\u001b[0m \u001b[0;34m=\u001b[0m \u001b[0mensure_index\u001b[0m\u001b[0;34m(\u001b[0m\u001b[0mindex\u001b[0m\u001b[0;34m)\u001b[0m\u001b[0;34m\u001b[0m\u001b[0;34m\u001b[0m\u001b[0m\n",
      "\u001b[0;32m~/software/alice/sw/ubuntu1804_x86-64/Python-modules/1.0-1/lib/python/site-packages/pandas/core/internals/construction.py\u001b[0m in \u001b[0;36mextract_index\u001b[0;34m(data)\u001b[0m\n\u001b[1;32m    315\u001b[0m             \u001b[0mlengths\u001b[0m \u001b[0;34m=\u001b[0m \u001b[0mlist\u001b[0m\u001b[0;34m(\u001b[0m\u001b[0mset\u001b[0m\u001b[0;34m(\u001b[0m\u001b[0mraw_lengths\u001b[0m\u001b[0;34m)\u001b[0m\u001b[0;34m)\u001b[0m\u001b[0;34m\u001b[0m\u001b[0;34m\u001b[0m\u001b[0m\n\u001b[1;32m    316\u001b[0m             \u001b[0;32mif\u001b[0m \u001b[0mlen\u001b[0m\u001b[0;34m(\u001b[0m\u001b[0mlengths\u001b[0m\u001b[0;34m)\u001b[0m \u001b[0;34m>\u001b[0m \u001b[0;36m1\u001b[0m\u001b[0;34m:\u001b[0m\u001b[0;34m\u001b[0m\u001b[0;34m\u001b[0m\u001b[0m\n\u001b[0;32m--> 317\u001b[0;31m                 \u001b[0;32mraise\u001b[0m \u001b[0mValueError\u001b[0m\u001b[0;34m(\u001b[0m\u001b[0;34m'arrays must all be same length'\u001b[0m\u001b[0;34m)\u001b[0m\u001b[0;34m\u001b[0m\u001b[0;34m\u001b[0m\u001b[0m\n\u001b[0m\u001b[1;32m    318\u001b[0m \u001b[0;34m\u001b[0m\u001b[0m\n\u001b[1;32m    319\u001b[0m             \u001b[0;32mif\u001b[0m \u001b[0mhave_dicts\u001b[0m\u001b[0;34m:\u001b[0m\u001b[0;34m\u001b[0m\u001b[0;34m\u001b[0m\u001b[0m\n",
      "\u001b[0;31mValueError\u001b[0m: arrays must all be same length"
     ]
    }
   ],
   "source": [
    "histogramMap={}\n",
    "varNames=histo['varNames']\n",
    "\n",
    "for iDim in range(len(varNames)):\n",
    "    if iDim is dimI:\n",
    "        continue\n",
    "    histogramMap[varNames[iDim] +\"BinNumber\"] = binNumbers[iDim]\n",
    "    histogramMap[varNames[iDim] +\"BinCenter\"] = binCenters[iDim]\n",
    "    print(len(binNumbers[iDim]))\n",
    "    print(len(binCenters[iDim]))\n",
    "\n",
    "means = np.ndarray.flatten(np.mean(histogram,axis=dimI))\n",
    "rms = np.ndarray.flatten(np.sqrt(np.mean(histogram**2,axis=dimI)))\n",
    "medians = np.ndarray.flatten(np.median(histogram,axis=dimI))\n",
    "entries = np.ndarray.flatten(np.sum(histogram,axis=dimI))\n",
    "print(means.shape)\n",
    "\n",
    "histogramMap[\"means\"] = means\n",
    "histogramMap[\"rms\"] = rms\n",
    "histogramMap[\"medians\"] = medians\n",
    "histogramMap[\"entries\"] = entries\n",
    "out=pd.DataFrame(histogramMap)\n"
   ]
  },
  {
   "cell_type": "code",
   "execution_count": null,
   "metadata": {},
   "outputs": [],
   "source": [
    "out.head"
   ]
  }
 ],
 "metadata": {
  "kernelspec": {
   "display_name": "Python 3",
   "language": "python",
   "name": "python3"
  },
  "language_info": {
   "codemirror_mode": {
    "name": "ipython",
    "version": 3
   },
   "file_extension": ".py",
   "mimetype": "text/x-python",
   "name": "python",
   "nbconvert_exporter": "python",
   "pygments_lexer": "ipython3",
   "version": "3.6.8"
  }
 },
 "nbformat": 4,
 "nbformat_minor": 2
}
