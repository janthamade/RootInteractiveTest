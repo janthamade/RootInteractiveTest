{
 "cells": [
  {
   "cell_type": "code",
   "execution_count": null,
   "metadata": {},
   "outputs": [],
   "source": [
    "from RootInteractive.Tools.histoNDTools import *"
   ]
  },
  {
   "cell_type": "markdown",
   "metadata": {},
   "source": [
    "# Random Data Frame generator"
   ]
  },
  {
   "cell_type": "code",
   "execution_count": null,
   "metadata": {},
   "outputs": [],
   "source": [
    "npoints=10000\n",
    "df = pd.DataFrame(np.random.random_sample(size=(npoints, 4)), columns=list('ABCD'))\n",
    "df[\"noise\"]=np.random.normal(0, 0.1, npoints)\n",
    "df[\"csin\"]=np.sin(6.28*df[\"C\"])\n",
    "df[\"valueOrig\"]=df[\"A\"]+np.exp(3*df[\"B\"])*df[\"csin\"]\n",
    "df[\"value\"]=df[\"valueOrig\"]+df[\"noise\"]\n",
    "df.tail()\n"
   ]
  },
  {
   "cell_type": "markdown",
   "metadata": {},
   "source": [
    "# Make Histogram"
   ]
  },
  {
   "cell_type": "code",
   "execution_count": null,
   "metadata": {},
   "outputs": [],
   "source": [
    "histo=makeHistogram(df,\"value:A:B:C:D:#A>0>>myhisto(50,-25,25,40,0,1,30,0,1,20,0,1,10,0,1)\")\n"
   ]
  },
  {
   "cell_type": "markdown",
   "metadata": {},
   "source": [
    "# Inputs"
   ]
  },
  {
   "cell_type": "code",
   "execution_count": null,
   "metadata": {},
   "outputs": [],
   "source": [
    "slices=((0,50,1,0),(10,30,1,4),(10,24,5,3),(10,16,2,2),(0,10,3,0))   # start:stop:step:width\n",
    "dimI=0                                                               # dimension of interest  "
   ]
  },
  {
   "cell_type": "markdown",
   "metadata": {},
   "source": [
    "# The Code of the function"
   ]
  },
  {
   "cell_type": "markdown",
   "metadata": {},
   "source": [
    "### Width modification"
   ]
  },
  {
   "cell_type": "code",
   "execution_count": null,
   "metadata": {},
   "outputs": [],
   "source": [
    "binList = []                                # Prepare list of bin numbers which has same dimensions with original histogram\n",
    "for el in histo[\"axes\"]:                    #     so same slicing can be applied on the bin list\n",
    "    binList.append(np.arange(len(el)-1))\n",
    "\n",
    "    \n",
    "widthList=[item[3] for item in slices]      # extract the list of widths from slicing tuple\n",
    "localHist = histo[\"H\"].copy()\n",
    "localAxes = histo[\"axes\"].copy()\n",
    "\n",
    "\n",
    "for iDim, w in enumerate(widthList):          # get the original histogram and shifted histograms by +/- i,\n",
    "    widthSliceList=[]                         #     where i is all integers upto width, sum all histograms \n",
    "    L=localHist.shape[iDim]\n",
    "    \n",
    "    iSlice=[slice(None)]*len(localHist.shape)\n",
    "    iSlice[iDim]=slice(w,L-w)\n",
    "    dummy=localHist[tuple(iSlice)] \n",
    "    \n",
    "    for i in range(1,w+1):\n",
    "        iSlice=[slice(None)]*len(localHist.shape)\n",
    "        iSlice[iDim]=slice(w+i,L-w+i)\n",
    "        dummy+=localHist[tuple(iSlice)]\n",
    "        \n",
    "        iSlice=[slice(None)]*len(localHist.shape)\n",
    "        iSlice[iDim]=slice(w-i,L-w-i)\n",
    "        dummy+=localHist[tuple(iSlice)]\n",
    "        \n",
    "    localHist = dummy\n",
    "    binList[iDim] = binList[iDim][slice(w,L-w)]    # trim the edges\n",
    "    localAxes[iDim] = localAxes[iDim][slice(w,L-w+1)]\n",
    "\n",
    "print(widthList)\n",
    "print(localHist.shape)\n",
    "for a, b in zip(localAxes,binList):\n",
    "    print(a.shape, b.shape)\n",
    "print(binList)\n"
   ]
  },
  {
   "cell_type": "markdown",
   "metadata": {},
   "source": [
    "### Slicing tuple"
   ]
  },
  {
   "cell_type": "code",
   "execution_count": null,
   "metadata": {},
   "outputs": [],
   "source": [
    "newSliceList=[]\n",
    "for iDim, iSlice in enumerate(slices):    # rearranging slice accourding to width\n",
    "    jSlice=slice(iSlice[0] - iSlice[3], iSlice[1] - iSlice[3], iSlice[2])\n",
    "        \n",
    "    if jSlice.start < 0 or jSlice.stop >  localHist.shape[iDim]:\n",
    "        raise ValueError(\"Range and width of {}th dimension is not compatible: {}\".format(iDim,iSlice))\n",
    "    \n",
    "    newSliceList.append(jSlice)  \n",
    "    \n",
    "    \n",
    "npSlice=tuple(newSliceList)\n",
    "\n",
    "\n",
    "print(histo[\"H\"].shape)\n",
    "print(localHist.shape)\n",
    "print(slices)\n",
    "print(newSliceList)\n",
    "print(npSlice)\n",
    "print(npAxesSlice)\n",
    "for a,b in zip(histo[\"axes\"],localAxes):\n",
    "    print(a.shape, b.shape)"
   ]
  },
  {
   "cell_type": "markdown",
   "metadata": {},
   "source": [
    "### Determine the bin centers"
   ]
  },
  {
   "cell_type": "code",
   "execution_count": null,
   "metadata": {},
   "outputs": [],
   "source": [
    "CenterList = []\n",
    "for arr in localAxes:\n",
    "    arri = arr[:-1] + (arr[1]-arr[0])/2\n",
    "    CenterList.append(arri)\n",
    "    \n",
    "    \n",
    "print(CenterList)"
   ]
  },
  {
   "cell_type": "markdown",
   "metadata": {},
   "source": [
    "### aply the npslice"
   ]
  },
  {
   "cell_type": "code",
   "execution_count": null,
   "metadata": {},
   "outputs": [],
   "source": [
    "histogram = localHist[npSlice]\n",
    "localCenter = []\n",
    "localNumbers = []\n",
    "\n",
    "for i,(b,c) in enumerate(zip(binList,CenterList)):\n",
    "    localNumbers.append(b[npSlice[i]])\n",
    "    localCenter.append(c[npSlice[i]])\n",
    "\n",
    "localCenter.pop(dimI)\n",
    "localNumbers.pop(dimI)\n",
    "\n",
    "\n",
    "print(localNumbers)\n",
    "print(localCenter)"
   ]
  },
  {
   "cell_type": "markdown",
   "metadata": {},
   "source": [
    "# Bin Number"
   ]
  },
  {
   "cell_type": "code",
   "execution_count": null,
   "metadata": {},
   "outputs": [],
   "source": [
    "mesharrayNumbers = np.array(np.meshgrid(*localNumbers, indexing='ij'))"
   ]
  },
  {
   "cell_type": "code",
   "execution_count": null,
   "metadata": {},
   "outputs": [],
   "source": [
    "binNumbers = []\n",
    "for el in mesharrayNumbers:\n",
    "    binNumbers.append(el.flatten())"
   ]
  },
  {
   "cell_type": "markdown",
   "metadata": {},
   "source": [
    "# Bin Center"
   ]
  },
  {
   "cell_type": "code",
   "execution_count": null,
   "metadata": {},
   "outputs": [],
   "source": [
    "\n",
    "mesharrayCenter = np.array(np.meshgrid(*localCenter, indexing='ij'))"
   ]
  },
  {
   "cell_type": "code",
   "execution_count": null,
   "metadata": {},
   "outputs": [],
   "source": [
    "binCenters = []\n",
    "for el in mesharrayCenter:\n",
    "    binCenters.append(el.flatten())"
   ]
  },
  {
   "cell_type": "code",
   "execution_count": null,
   "metadata": {},
   "outputs": [],
   "source": [
    "histogramMap={}\n",
    "varNames=histo['varNames']\n",
    "varNames.pop(dimI)\n",
    "\n",
    "for iDim in range(len(varNames)):\n",
    "    histogramMap[varNames[iDim] +\"BinNumber\"] = binNumbers[iDim]\n",
    "    histogramMap[varNames[iDim] +\"BinCenter\"] = binCenters[iDim]\n",
    "    print(len(binNumbers[iDim]))\n",
    "    print(len(binCenters[iDim]))\n",
    "\n",
    "means = np.ndarray.flatten(np.mean(histogram,axis=dimI))\n",
    "rms = np.ndarray.flatten(np.sqrt(np.mean(histogram**2,axis=dimI)))\n",
    "medians = np.ndarray.flatten(np.median(histogram,axis=dimI))\n",
    "entries = np.ndarray.flatten(np.sum(histogram,axis=dimI))\n",
    "print(means.shape)\n",
    "\n",
    "histogramMap[\"means\"] = means\n",
    "histogramMap[\"rms\"] = rms\n",
    "histogramMap[\"medians\"] = medians\n",
    "histogramMap[\"entries\"] = entries\n",
    "out=pd.DataFrame(histogramMap)\n"
   ]
  },
  {
   "cell_type": "code",
   "execution_count": null,
   "metadata": {},
   "outputs": [],
   "source": [
    "out.head"
   ]
  }
 ],
 "metadata": {
  "kernelspec": {
   "display_name": "Python 3",
   "language": "python",
   "name": "python3"
  },
  "language_info": {
   "codemirror_mode": {
    "name": "ipython",
    "version": 3
   },
   "file_extension": ".py",
   "mimetype": "text/x-python",
   "name": "python",
   "nbconvert_exporter": "python",
   "pygments_lexer": "ipython3",
   "version": "3.6.8"
  }
 },
 "nbformat": 4,
 "nbformat_minor": 2
}
