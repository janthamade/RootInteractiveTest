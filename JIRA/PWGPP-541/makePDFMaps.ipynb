{
 "cells": [
  {
   "cell_type": "code",
   "execution_count": null,
   "metadata": {},
   "outputs": [],
   "source": [
    "from makePDFMaps import *"
   ]
  },
  {
   "cell_type": "markdown",
   "metadata": {},
   "source": [
    "# Random Data Frame generator"
   ]
  },
  {
   "cell_type": "code",
   "execution_count": null,
   "metadata": {},
   "outputs": [],
   "source": [
    "npoints=1000000\n",
    "df = pd.DataFrame(np.random.random_sample(size=(npoints, 4)), columns=list('ABCD'))\n",
    "df[\"noise\"]=np.random.normal(0, 0.1, npoints)\n",
    "df[\"csin\"]=np.sin(6.28*df[\"C\"])\n",
    "df[\"valueOrig\"]=df[\"A\"]+np.exp(0*df[\"B\"])*df[\"csin\"]\n",
    "df[\"value\"]=df[\"valueOrig\"]+df[\"noise\"]\n",
    "df.tail()\n"
   ]
  },
  {
   "cell_type": "markdown",
   "metadata": {},
   "source": [
    "# Make Histogram"
   ]
  },
  {
   "cell_type": "code",
   "execution_count": null,
   "metadata": {},
   "outputs": [],
   "source": [
    "histo=makeHistogram(df,\"value:A:B:C:D:#A>0>>myhisto(40,-20,20,40,0,1,30,0,1,50,0,1,10,0,1)\")\n"
   ]
  },
  {
   "cell_type": "markdown",
   "metadata": {},
   "source": [
    "# Inputs"
   ]
  },
  {
   "cell_type": "code",
   "execution_count": null,
   "metadata": {},
   "outputs": [],
   "source": [
    "slices=((0,40,1,0),(10,30,1,4),(10,24,5,3),(1,49,3,1),(0,10,3,0))   # start:stop:step:width\n",
    "dimI=0                                                               # dimension of interest  "
   ]
  },
  {
   "cell_type": "code",
   "execution_count": null,
   "metadata": {},
   "outputs": [],
   "source": [
    "dframe = makePdfMaps(histo,slices,dimI)\n",
    "dframe.sample(20)"
   ]
  },
  {
   "cell_type": "code",
   "execution_count": null,
   "metadata": {},
   "outputs": [],
   "source": [
    "dframe[\"csin\"]=np.sin(6.28*dframe[\"CBinCenter\"])\n",
    "dframe[\"valueOrig\"]=dframe[\"ABinCenter\"]+np.exp(0*dframe[\"BBinCenter\"])*dframe[\"csin\"]\n",
    "dframe[\"stddev\"]=np.sqrt(dframe[\"rms\"]**2-dframe[\"means\"]**2)\n",
    "dframe.sample(20)\n"
   ]
  },
  {
   "cell_type": "code",
   "execution_count": null,
   "metadata": {},
   "outputs": [],
   "source": [
    "import matplotlib.pyplot as plt\n",
    "plt.plot(dframe[\"stddev\"])\n",
    "plt.show()"
   ]
  },
  {
   "cell_type": "code",
   "execution_count": null,
   "metadata": {},
   "outputs": [],
   "source": [
    "from RootInteractive.InteractiveDrawing.bokeh.bokehDraw import *\n",
    "from bokeh.io import output_notebook\n",
    "\n",
    "output_notebook()\n",
    "\n",
    "figureArray = [\n",
    "    [['CBinCenter'], ['valueOrig','means-valueOrig', 'medians-valueOrig']]\n",
    "]\n",
    "tooltips = [(\"A\", \"(@ABinCenter)\"),(\"B\", \"(@BBinCenter)\"),(\"C\", \"(@CBinCenter)\"),(\"D\", \"(@DBinCenter)\"), ]\n",
    "widgets='slider.DBinCenter(0,1,0.1,0,1)'\n",
    "figureLayout: str = '((0),x_visible=1,y_visible=0,plot_height=250,plot_width=1000)'\n",
    "bokehDraw.fromArray(dframe, \"ABinNumber>0\",figureArray, widgets, layout=figureLayout, tooltips=tooltips  )"
   ]
  },
  {
   "cell_type": "code",
   "execution_count": null,
   "metadata": {},
   "outputs": [],
   "source": []
  }
 ],
 "metadata": {
  "kernelspec": {
   "display_name": "Python 3",
   "language": "python",
   "name": "python3"
  },
  "language_info": {
   "codemirror_mode": {
    "name": "ipython",
    "version": 3
   },
   "file_extension": ".py",
   "mimetype": "text/x-python",
   "name": "python",
   "nbconvert_exporter": "python",
   "pygments_lexer": "ipython3",
   "version": "3.6.8"
  }
 },
 "nbformat": 4,
 "nbformat_minor": 2
}
