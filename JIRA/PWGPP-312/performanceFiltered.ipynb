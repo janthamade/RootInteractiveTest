{
 "cells": [
  {
   "cell_type": "markdown",
   "metadata": {},
   "source": [
    "## import "
   ]
  },
  {
   "cell_type": "code",
   "execution_count": null,
   "metadata": {},
   "outputs": [],
   "source": [
    "# from\n",
    "from RootInteractive.Tools.aliTreePlayer import *\n",
    "from RootInteractive.InteractiveDrawing.bokeh.bokehDrawSA import *\n",
    "from RootInteractive.Tools.aliTreePlayer import *\n",
    "from bokeh.io import curdoc\n",
    "import os\n",
    "import sys\n",
    "import pytest\n",
    "from ROOT import TFile, gSystem\n",
    "\n",
    "output_file(\"performanceMap.html\")"
   ]
  },
  {
   "cell_type": "markdown",
   "metadata": {},
   "source": [
    "## Load trees for comparison"
   ]
  },
  {
   "cell_type": "code",
   "execution_count": null,
   "metadata": {},
   "outputs": [],
   "source": [
    "treeAlphaV, treeListAlphaV, fileListAlphaV = LoadTrees(\"cat performance.list\",\".*_alphaVDist\",\"xxx\",\"\",0)\n",
    "# treeListAlphaV # enable this to get tree list"
   ]
  },
  {
   "cell_type": "markdown",
   "metadata": {},
   "source": [
    "## Select branches/aliases example:"
   ]
  },
  {
   "cell_type": "code",
   "execution_count": null,
   "metadata": {},
   "outputs": [],
   "source": [
    "findSelectedBranches(treeAlphaV,[\".*Center\"],exclude=[\".*his.*\"])\n",
    "findSelectedBranches(treeAlphaV,[\".*TRD.*CovarP1.*meanG\"],exclude=[\".*XXX.*\"])"
   ]
  },
  {
   "cell_type": "markdown",
   "metadata": {},
   "source": [
    "## Create data frame example"
   ]
  },
  {
   "cell_type": "code",
   "execution_count": null,
   "metadata": {},
   "outputs": [],
   "source": [
    "tree2Panda?"
   ]
  },
  {
   "cell_type": "code",
   "execution_count": null,
   "metadata": {},
   "outputs": [],
   "source": [
    "dfVariables=tree2Panda(treeAlphaV,[\".*Center\"],\"entries>=0\", exclude=[\".*his.*\"])\n",
    "dfCovar=tree2Panda(treeAlphaV,[\".*TRD.*CovarP1.*meanG\"],selection=\"entries>0\",exclude=[\".*XXX.*\"])\n",
    "#dfCovar=tree2Panda(treeAlphaV,[\".*TRD.*CovarP1.*meanG\"],selection=\"entries>0\",exclude=[\".*XXX.*\"], columnMask=[[\"_qPt_tgl_alphaVDist\",\"\"]])\n",
    "#dfCovar=tree2Panda(treeAlphaV,[\".*TRD.*hisCovarP.*ITS.*TRD.*_alphaVDist.*meanG\",\"\"], \"entries>=0\",exclude=[\".*XXX.*\"],columnMask=[[\"ITS_TRDv_qPt_tgl_alphaVDist_meanG\",\"\"]])"
   ]
  },
  {
   "cell_type": "code",
   "execution_count": null,
   "metadata": {},
   "outputs": [],
   "source": [
    "dfVariables.columns\n",
    "dfCovar.columns"
   ]
  },
  {
   "cell_type": "code",
   "execution_count": null,
   "metadata": {},
   "outputs": [],
   "source": []
  },
  {
   "cell_type": "code",
   "execution_count": null,
   "metadata": {},
   "outputs": [],
   "source": []
  }
 ],
 "metadata": {
  "kernelspec": {
   "display_name": "Python 3",
   "language": "python",
   "name": "python3"
  },
  "language_info": {
   "codemirror_mode": {
    "name": "ipython",
    "version": 3
   },
   "file_extension": ".py",
   "mimetype": "text/x-python",
   "name": "python",
   "nbconvert_exporter": "python",
   "pygments_lexer": "ipython3",
   "version": "3.6.8"
  }
 },
 "nbformat": 4,
 "nbformat_minor": 2
}
