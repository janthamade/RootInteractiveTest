{
 "cells": [
  {
   "cell_type": "markdown",
   "metadata": {},
   "source": [
    "## import "
   ]
  },
  {
   "cell_type": "code",
   "execution_count": null,
   "metadata": {},
   "outputs": [],
   "source": [
    "from bokeh.io import output_notebook\n",
    "from RootInteractive.Tools.aliTreePlayer import *\n",
    "from RootInteractive.InteractiveDrawing.bokeh.bokehDrawSA import *\n",
    "from RootInteractive.Tools.aliTreePlayer import *\n",
    "from bokeh.io import curdoc\n",
    "import numpy as np\n",
    "import os\n",
    "import sys\n",
    "import pytest\n",
    "from ROOT import TFile, gSystem\n",
    "output_notebook()\n",
    "output_file(\"performanceMap.html\")"
   ]
  },
  {
   "cell_type": "markdown",
   "metadata": {},
   "source": [
    "## Load trees for comparison"
   ]
  },
  {
   "cell_type": "code",
   "execution_count": null,
   "metadata": {},
   "outputs": [],
   "source": [
    "treeAlphaV, treeListAlphaV, fileListAlphaV = LoadTrees(\"cat performance.list\",\".*_alphaVDist\",\"xxx\",\"\",0)\n",
    "# treeListAlphaV                           # enable this to get tree list\n",
    "# treeAlphaV.GetListOfFriends().ls()       # enable this to get tree list"
   ]
  },
  {
   "cell_type": "markdown",
   "metadata": {},
   "source": [
    "## Select branches/aliases example:"
   ]
  },
  {
   "cell_type": "code",
   "execution_count": null,
   "metadata": {},
   "outputs": [],
   "source": [
    "findSelectedBranches(treeAlphaV,[\".*Center\"],exclude=[\".*his.*\"])\n",
    "findSelectedBranches(treeAlphaV,[\".*TRD.*CovarP1.*meanG\"],exclude=[\".*XXX.*\"])"
   ]
  },
  {
   "cell_type": "markdown",
   "metadata": {},
   "source": [
    "## Create data frame example"
   ]
  },
  {
   "cell_type": "code",
   "execution_count": null,
   "metadata": {},
   "outputs": [],
   "source": [
    "#tree2Panda?"
   ]
  },
  {
   "cell_type": "code",
   "execution_count": null,
   "metadata": {},
   "outputs": [],
   "source": [
    "dfVariables=tree2Panda(treeAlphaV,[\".*Center\",\".*entries\"],\"entries>100&&abs(tglCenter)<0.2\", exclude=[\".*his.*\"])\n",
    "dfCovar=tree2Panda(treeAlphaV,[\".*TRD.*CovarP4.*binMedian\"],selection=\"entries>100&&abs(tglCenter)<0.2\",exclude=[\".*ITS_.*\"],\n",
    "                  columnMask=[[\"_qPt_tgl_alphaVDist_binMedian\",\"\"], [\"_hisCovar\",\"_Cov\"]])\n",
    "dfCovar = pd.concat([dfCovar,dfVariables],axis=1)\n",
    "print(dfCovar.columns)\n",
    "print(dfCovar.head(5))\n",
    "#dfCovar = dfCovar.sample(4000)\n",
    "dfCovar[\"sentries\"]=dfCovar.eval(\"sqrt(1/entries)\")\n",
    "dfCovar[\"sector\"]=dfCovar.eval(\"9*alphaVCenter/3.1497\")"
   ]
  },
  {
   "cell_type": "code",
   "execution_count": null,
   "metadata": {},
   "outputs": [],
   "source": [
    "output_file(\"performanceMap_covarP4_alpha.html\")\n",
    "figureArray = [\n",
    "    #[['alphaVCenter'], ['TRDOff_CovP4_TRDv'], {\"size\": 4, \"colorZvar\":\"qPtCenter\"}],\n",
    "    #[['alphaVCenter'], ['TRDOn_CovP4_TRDv'], {\"size\": 4, \"colorZvar\":\"qPtCenter\"}],\n",
    "    [['sector'], ['TRDOff_CovP4_TRDv','TRDOn_CovP4_TRDv'], {\"size\": 4}],\n",
    "    [['sector'], ['TRDOn_CovP4_TRDv/TRDOff_CovP4_TRDv'], {\"color\":\"black\",\"size\": 4}],\n",
    "    ['table']\n",
    "]\n",
    "\n",
    "widgetParams=[\n",
    "    ['range', ['sector']],\n",
    "    #['range', ['qPtCenter']],\n",
    "    #['range', ['tglCenter']],\n",
    "    ['select',[\"qPtCenter\"]],\n",
    "    ['select',[\"tglCenter\"]],\n",
    "    ['range', ['sentries']],\n",
    "]\n",
    "tooltips = [(\"qPt\", \"@qPtCenter 1/GeV\"), (\"tgl\", \"@tglCenter\"), (\"entries\", \"@entries\")]\n",
    "widgetLayoutDesc=[ [0,1], [2,3], {'sizing_mode':'scale_width'} ]\n",
    "figureLayoutDesc=[\n",
    "    [0],\n",
    "    [1,{'plot_height':100}],\n",
    "    {'plot_height':200,'sizing_mode':'scale_width','commonX':1}\n",
    "]\n",
    "fig=bokehDrawSA.fromArray(dfCovar, \"abs(tglCenter)<0.2\", figureArray, widgetParams,layout=figureLayoutDesc,tooltips=tooltips,sizing_mode='scale_width',widgetLayout=widgetLayoutDesc)"
   ]
  },
  {
   "cell_type": "code",
   "execution_count": null,
   "metadata": {},
   "outputs": [],
   "source": [
    "#treeAlphaV.GetListOfFriends().ls()"
   ]
  },
  {
   "cell_type": "code",
   "execution_count": null,
   "metadata": {},
   "outputs": [],
   "source": [
    "tree, treeList, fileList = LoadTrees(\"cat performance.list\",\".*_qPt_tglDist\",\"xxx\",\"\",0)\n",
    "dfVariables=tree2Panda(tree,[\".*Center\",\".*entries\"],\"entries>100\", exclude=[\".*his.*\"])\n",
    "dfCovar=tree2Panda(tree,[\".*TRD.*CovarP4.*binMedian\"],selection=\"entries>100\",exclude=[\".*ITS_.*\"],\n",
    "                   columnMask=[[\"_qPt_tglDist_binMedian\",\"\"], [\"_hisCovar\",\"_Cov\"]])\n",
    "dfCovar = pd.concat([dfCovar,dfVariables],axis=1)\n",
    "print(dfCovar.shape)\n",
    "dfCovar.head(5)\n",
    "#dfCovar = dfCovar.sample(2000)\n",
    "dfCovar[\"sentries\"]=dfCovar.eval(\"sqrt(1/entries)\")\n",
    "dfCovar.head(5)"
   ]
  },
  {
   "cell_type": "code",
   "execution_count": null,
   "metadata": {},
   "outputs": [],
   "source": [
    "output_file(\"performanceMap_covarP4.html\")\n",
    "figureArray = [\n",
    "    [['qPtCenter'], ['TRDOff_CovP4_TRDv', 'TRDOn_CovP4_TRDv'], {\"size\": 2, \"colorZvar\":\"tglCenter\"}],\n",
    "    [['qPtCenter'], ['TRDOn_CovP4_TRDv'], {\"size\": 2, \"colorZvar\":\"tglCenter\"}],\n",
    "    [['qPtCenter'], ['TRDOn_CovP4_TRDv/TRDOff_CovP4_TRDv'], {\"size\": 3, \"colorZvar\":\"tglCenter\"}],\n",
    "    ['table']\n",
    "]\n",
    "\n",
    "widgetParams=[\n",
    "    ['range', ['TRDOff_CovP4_TRDv']],\n",
    "    ['range', ['qPtCenter']],\n",
    "    ['range', ['tglCenter']],\n",
    "    ['range', ['sentries']],\n",
    "]\n",
    "tooltips = [(\"qPt\", \"@qPtCenter 1/GeV\"), (\"tgl\", \"@tglCenter\"), (\"entries\", \"@entries\")]\n",
    "\n",
    "figureLayoutDesc=[\n",
    "    [0,1,{'commonY':1}],\n",
    "    [2,{'plot_height':100}],\n",
    "    {'plot_height':200,'sizing_mode':'scale_width','commonX':1}\n",
    "]\n",
    "widgetLayoutDesc=[ [0,1], [2,3], {'sizing_mode':'scale_width'} ]\n",
    "\n",
    "fig=bokehDrawSA.fromArray(dfCovar, \"entries>200\", figureArray, widgetParams,layout=figureLayoutDesc,tooltips=tooltips,widgetLayout=widgetLayoutDesc,sizing_mode=\"scale_width\")"
   ]
  },
  {
   "cell_type": "code",
   "execution_count": null,
   "metadata": {},
   "outputs": [],
   "source": []
  }
 ],
 "metadata": {
  "kernelspec": {
   "display_name": "Python 3",
   "language": "python",
   "name": "python3"
  },
  "language_info": {
   "codemirror_mode": {
    "name": "ipython",
    "version": 3
   },
   "file_extension": ".py",
   "mimetype": "text/x-python",
   "name": "python",
   "nbconvert_exporter": "python",
   "pygments_lexer": "ipython3",
   "version": "3.6.8"
  }
 },
 "nbformat": 4,
 "nbformat_minor": 2
}
