{
 "cells": [
  {
   "cell_type": "markdown",
   "metadata": {},
   "source": [
    "## import "
   ]
  },
  {
   "cell_type": "code",
   "execution_count": null,
   "metadata": {},
   "outputs": [],
   "source": [
    "from bokeh.io import output_notebook\n",
    "from RootInteractive.Tools.aliTreePlayer import *\n",
    "from RootInteractive.InteractiveDrawing.bokeh.bokehDrawSA import *\n",
    "from RootInteractive.Tools.aliTreePlayer import *\n",
    "from bokeh.io import curdoc\n",
    "import os\n",
    "import sys\n",
    "import pytest\n",
    "from ROOT import TFile, gSystem\n",
    "output_notebook()\n",
    "output_file(\"performanceMap.html\")"
   ]
  },
  {
   "cell_type": "markdown",
   "metadata": {},
   "source": [
    "## Load trees for comparison"
   ]
  },
  {
   "cell_type": "code",
   "execution_count": null,
   "metadata": {},
   "outputs": [],
   "source": [
    "treeAlphaV, treeListAlphaV, fileListAlphaV = LoadTrees(\"cat performance.list\",\".*_alphaVDist\",\"xxx\",\"\",0)\n",
    "# treeListAlphaV                           # enable this to get tree list\n",
    "# treeAlphaV.GetListOfFriends().ls()       # enable this to get tree list"
   ]
  },
  {
   "cell_type": "markdown",
   "metadata": {},
   "source": [
    "## Select branches/aliases example:"
   ]
  },
  {
   "cell_type": "code",
   "execution_count": null,
   "metadata": {},
   "outputs": [],
   "source": [
    "findSelectedBranches(treeAlphaV,[\".*Center\"],exclude=[\".*his.*\"])\n",
    "findSelectedBranches(treeAlphaV,[\".*TRD.*CovarP1.*meanG\"],exclude=[\".*XXX.*\"])"
   ]
  },
  {
   "cell_type": "markdown",
   "metadata": {},
   "source": [
    "## Create data frame example"
   ]
  },
  {
   "cell_type": "code",
   "execution_count": null,
   "metadata": {},
   "outputs": [],
   "source": [
    "#tree2Panda?"
   ]
  },
  {
   "cell_type": "code",
   "execution_count": null,
   "metadata": {},
   "outputs": [],
   "source": [
    "dfVariables=tree2Panda(treeAlphaV,[\".*Center\",\".*entries\"],\"entries>100\", exclude=[\".*his.*\"])\n",
    "dfCovar=tree2Panda(treeAlphaV,[\".*TRD.*CovarP4.*binMedian\"],selection=\"entries>100\",exclude=[\".*ITS_.*\"],\n",
    "                  columnMask=[[\"_qPt_tgl_alphaVDist_binMedian\",\"\"], [\"_hisCovar\",\"_Cov\"]])\n",
    "dfCovar = pd.concat([dfCovar,dfVariables],axis=1)"
   ]
  },
  {
   "cell_type": "code",
   "execution_count": null,
   "metadata": {},
   "outputs": [],
   "source": [
    "dfCovar2 = pd.concat([dfCovar,dfVariables])\n",
    "print(dfCovar.columns)\n",
    "print(dfCovar.head(5))"
   ]
  },
  {
   "cell_type": "code",
   "execution_count": null,
   "metadata": {},
   "outputs": [],
   "source": [
    "dfCovar = dfCovar.sample(2000)"
   ]
  },
  {
   "cell_type": "code",
   "execution_count": null,
   "metadata": {},
   "outputs": [],
   "source": [
    "figureArray = [\n",
    "    [['qPtCenter'], ['TRDOff_CovP4_TRDv', 'TRDOn_CovP4_TRDv'], {\"size\": 2, \"colorZvar\":\"tglCenter\"}],\n",
    "    [['qPtCenter'], ['TRDOn_CovP4_TRDv'], {\"size\": 2, \"colorZvar\":\"tglCenter\"}],\n",
    "    [['qPtCenter'], ['TRDOn_CovP4_TRDv/TRDOff_CovP4_TRDv'], {\"size\": 3, \"colorZvar\":\"tglCenter\"}],\n",
    "    ['table']\n",
    "]\n",
    "\n",
    "widgetParams=[\n",
    "    ['range', ['qPtCenter']],\n",
    "    ['range', ['tglCenter']],\n",
    "]\n",
    "tooltips = [(\"qPt\", \"@qPtCenter 1/GeV\"), (\"tgl\", \"@tglCenter\")]\n",
    "\n",
    "figureLayoutDesc=[\n",
    "    [0,{'commonY':1}],\n",
    "    [1],\n",
    "    [2, { 'plot_height':200}],\n",
    "    {'plot_height':200,'sizing_mode':'scale_width','commonX':1}\n",
    "]"
   ]
  },
  {
   "cell_type": "code",
   "execution_count": null,
   "metadata": {},
   "outputs": [],
   "source": [
    "fig=bokehDrawSA.fromArray(dfCovar, \"tglCenter>0\", figureArray, widgetParams,layout=figureLayoutDesc,tooltips=tooltips)"
   ]
  },
  {
   "cell_type": "code",
   "execution_count": null,
   "metadata": {},
   "outputs": [],
   "source": [
    "dfCovar.head(5)"
   ]
  },
  {
   "cell_type": "code",
   "execution_count": null,
   "metadata": {},
   "outputs": [],
   "source": [
    "treeAlphaV.Show(0)"
   ]
  },
  {
   "cell_type": "code",
   "execution_count": null,
   "metadata": {},
   "outputs": [],
   "source": [
    "treeListAlphaV"
   ]
  },
  {
   "cell_type": "code",
   "execution_count": null,
   "metadata": {},
   "outputs": [],
   "source": [
    "c=ROOT.TCanvas(\"\",\"\")\n",
    "treeAlphaV.Draw(\"hisCovarP4_Allv_qPt_tgl_alphaVDist.binMedian:qPtCenter\",\"hisCovarP4_Allv_qPt_tgl_alphaVDist.entries>100\")\n",
    "c.Draw(\"\")"
   ]
  },
  {
   "cell_type": "code",
   "execution_count": null,
   "metadata": {},
   "outputs": [],
   "source": []
  }
 ],
 "metadata": {
  "kernelspec": {
   "display_name": "Python 3",
   "language": "python",
   "name": "python3"
  },
  "language_info": {
   "codemirror_mode": {
    "name": "ipython",
    "version": 3
   },
   "file_extension": ".py",
   "mimetype": "text/x-python",
   "name": "python",
   "nbconvert_exporter": "python",
   "pygments_lexer": "ipython3",
   "version": "3.6.8"
  }
 },
 "nbformat": 4,
 "nbformat_minor": 2
}
