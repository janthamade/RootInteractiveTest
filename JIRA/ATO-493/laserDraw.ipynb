{
 "cells": [
  {
   "cell_type": "code",
   "execution_count": null,
   "metadata": {},
   "outputs": [],
   "source": [
    "from bokeh.io import output_notebook\n",
    "from RootInteractive.Tools.aliTreePlayer import *\n",
    "from RootInteractive.InteractiveDrawing.bokeh.bokehDrawSA import *\n",
    "from RootInteractive.Tools.aliTreePlayer import *\n",
    "from bokeh.io import curdoc\n",
    "import numpy as np\n",
    "import os\n",
    "import sys\n",
    "from ROOT import TFile, gSystem\n",
    "output_notebook()"
   ]
  },
  {
   "cell_type": "code",
   "execution_count": null,
   "metadata": {
    "pycharm": {
     "name": "#%%\n"
    }
   },
   "outputs": [],
   "source": [
    "tree, treeList, fileList = LoadTrees(\"cat /data/NOTESdata/alice-tpc-notes/JIRA/ATO-493/laser.list\",\".*\",\"xxx\",\".*root\",0)"
   ]
  },
  {
   "cell_type": "code",
   "execution_count": null,
   "metadata": {
    "pycharm": {
     "name": "#%%\n"
    }
   },
   "outputs": [],
   "source": [
    "tree.Show(0)"
   ]
  },
  {
   "cell_type": "code",
   "execution_count": null,
   "metadata": {
    "pycharm": {
     "name": "#%%\n"
    }
   },
   "outputs": [],
   "source": [
    "#dfVariables=tree2Panda(tree,[\".*Center\",\".*entries\"],\"lx.fElements\", exclude=[\".*his.*\"],\n",
    "#                      columnMask=[[\"Center\",\"\"]])\n",
    "dfPos=tree2Panda(tree,[\"laserID\",\"bundle\",\"beam\",\"rod\",\"lx.fElements\",\"ly.fElements\",\"gy.fElements\",\"gx.fElements\"],\n",
    "                 \"lx.fElements\",columnMask=[[\"_fElements\",\"\"]])\n",
    "display(dfPos.columns)\n",
    "dfQA=tree2Panda(tree,[\"cutbits.fElements\",\"qmax.fElements\",\"qtot.fElements\",\"disti.fElements\",\"distlf.fElements\"],\n",
    "                 \"lx.fElements\",columnMask=[[\"_fElements\",\"\"]])\n",
    "display(dfQA.columns)"
   ]
  },
  {
   "cell_type": "code",
   "execution_count": null,
   "metadata": {},
   "outputs": [],
   "source": [
    "df0 = pd.concat([dfPos,dfQA],axis=1)\n",
    "display(df0.columns)\n",
    "display(df0.head(5))"
   ]
  },
  {
   "cell_type": "code",
   "execution_count": null,
   "metadata": {
    "scrolled": true
   },
   "outputs": [],
   "source": [
    "output_file(\"performanceMap_tpcNclOnOff_dSectorM.html\")\n",
    "figureArray = [\n",
    "    [['lx'], ['ly'], {}],\n",
    "    [['gx'], ['gy'], {}],\n",
    "    [['lx'], ['ly'], {}],\n",
    "    [['gx'], ['gy'], {}],\n",
    "    ['table'],\n",
    "    {\"size\": 8}\n",
    "]\n",
    "\n",
    "widgetParams=[\n",
    "    ['range', ['lx']],\n",
    "    ['range', ['bundle']],\n",
    "    ['select',[\"beam\"]]\n",
    "]\n",
    "tooltips = [(\"lx\", \"@lx\")]\n",
    "widgetLayoutDesc=[ [0,1], [2,3], {'sizing_mode':'scale_width'} ]\n",
    "figureLayoutDesc=[\n",
    "    [0,1, {'plot_height':250}],\n",
    "    [2,3,{'plot_height':250}],\n",
    "    {'plot_height':100,'sizing_mode':'scale_width','commonX':3}\n",
    "]\n",
    "fig=bokehDrawSA.fromArray(df0, \"lx>0\", figureArray, widgetParams,layout=figureLayoutDesc,tooltips=tooltips,sizing_mode='scale_width',widgetLayout=widgetLayoutDesc)"
   ]
  },
  {
   "cell_type": "code",
   "execution_count": null,
   "metadata": {},
   "outputs": [],
   "source": []
  }
 ],
 "metadata": {
  "kernelspec": {
   "display_name": "Python 3",
   "language": "python",
   "name": "python3"
  },
  "language_info": {
   "codemirror_mode": {
    "name": "ipython",
    "version": 3
   },
   "file_extension": ".py",
   "mimetype": "text/x-python",
   "name": "python",
   "nbconvert_exporter": "python",
   "pygments_lexer": "ipython3",
   "version": "3.6.9"
  }
 },
 "nbformat": 4,
 "nbformat_minor": 1
}
