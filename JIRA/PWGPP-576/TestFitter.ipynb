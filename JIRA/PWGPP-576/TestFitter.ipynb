{
 "cells": [
  {
   "cell_type": "markdown",
   "metadata": {},
   "source": [
    "## Function fitter using tensroflow fitter\n",
    "Test and demo of curve fitting using wrapper tensoflow. For the moment only ADAm optimizer supported.\n",
    "* user defined function to mnimize\n",
    "* user defined weight function\n",
    "* covaraince matrix extraction\n",
    "* bootstrap method \n",
    "\n",
    "### Example functions:\n",
    "* linear\n",
    "* non linear: sinus, exponential\n",
    "\n",
    "### Content:\n",
    "1. Define input paraemeter of test (number of points and number of test fits)\n",
    "2. Define test functions (linear, sinus, exp) as tensorflow functions\n",
    "3. Define loss function\n",
    "4. Single fit example\n",
    "  *  4.a Create input data\n",
    "  *  4.b Make a fit\n",
    "5. Test of the fitters\n",
    "   * n tests data stes with npoints to fit\n",
    "   * Test statistical properties of exctρacted data\n",
    "   * distribution of residual Δ, Δ/σ to test quality of fits "
   ]
  },
  {
   "cell_type": "code",
   "execution_count": null,
   "metadata": {},
   "outputs": [],
   "source": [
    "import os\n",
    "os.environ[\"CUDA_VISIBLE_DEVICES\"]=\"-2\"\n",
    "import numpy as np\n",
    "import pandas as pd\n",
    "import matplotlib.pyplot as plt\n",
    "import tensorflow as tf\n",
    "import tensorflow_probability as tfp"
   ]
  },
  {
   "cell_type": "markdown",
   "metadata": {},
   "source": [
    "## 1. define input paraemeter of test (number of points and number of test fits)"
   ]
  },
  {
   "cell_type": "code",
   "execution_count": null,
   "metadata": {},
   "outputs": [],
   "source": [
    "npoints=50\n",
    "ntest=50\n",
    "# setting paremeters \n",
    "num_step=50\n",
    "learning_rate=0.4\n",
    "epsilon=0.0001"
   ]
  },
  {
   "cell_type": "markdown",
   "metadata": {},
   "source": [
    "## 2. create different test functions as tensorflow functions"
   ]
  },
  {
   "cell_type": "code",
   "execution_count": null,
   "metadata": {},
   "outputs": [],
   "source": [
    "def testfunc_sin(x, a, b, c):\n",
    "    a=tf.cast(a,tf.float64)\n",
    "    b=tf.cast(b,tf.float64)\n",
    "    c=tf.cast(c,tf.float64)\n",
    "    return a*tf.sin(b*x)+c\n",
    "\n",
    "def testfunc_lin(x, a, b):\n",
    "    a=tf.cast(a,tf.float64)\n",
    "    b=tf.cast(b,tf.float64)\n",
    "    return a*x+b\n",
    "\n",
    "def testfunc_exp(x, a, b):\n",
    "    a=tf.cast(a,tf.float64)\n",
    "    b=tf.cast(b,tf.float64)\n",
    "    return tf.exp(a*x)+b"
   ]
  },
  {
   "cell_type": "markdown",
   "metadata": {},
   "source": [
    "##  3.)  Define  loss function\n",
    "* could be any function f(y_pred, y_true) which returns a  scalar\n",
    "* By defult we should be able to specify also wieths"
   ]
  },
  {
   "cell_type": "code",
   "execution_count": null,
   "metadata": {},
   "outputs": [],
   "source": [
    "def loss_func(y_pred, y_true):\n",
    "    return tf.reduce_mean((y_pred - y_true )**2)\n",
    "\n",
    "def loss_func_w(y_pred, y_true, weights):\n",
    "    return tf.reduce_mean((y_pred - y_true )**2)+tf.reduce_mean(weights)\n",
    " "
   ]
  },
  {
   "cell_type": "markdown",
   "metadata": {},
   "source": [
    "# 4. Single fit example\n",
    "  *  4.a Create input data\n",
    "  *  4.b Make a fit and protin results - compare input and output"
   ]
  },
  {
   "cell_type": "code",
   "execution_count": null,
   "metadata": {},
   "outputs": [],
   "source": [
    "y_vals_sin = []\n",
    "y_vals_lin = []\n",
    "y_vals_exp = []\n",
    "for el in x_vals:\n",
    "    y_vals_sin.append(testfunc_sin(el, np.random.normal(0.5,0.1), np.random.normal(0.5,0.1), np.random.normal(0.5,0.1)))\n",
    "    y_vals_lin.append(testfunc_lin(el, np.random.normal(0.5,0.1), np.random.normal(0.5,0.1)))\n",
    "    y_vals_exp.append(testfunc_exp(el, np.random.normal(0.5,0.1), np.random.normal(0.5,0.1)))\n",
    "    \n",
    "weights = np.ones(x_vals.shape[0])   "
   ]
  },
  {
   "cell_type": "markdown",
   "metadata": {},
   "source": [
    "## 4. b import Fitter and test it for the different functions and normal fitting + BS fitting"
   ]
  },
  {
   "cell_type": "code",
   "execution_count": null,
   "metadata": {},
   "outputs": [],
   "source": [
    "from Fitter import curve_fit, curve_fit_BS, curve_fit_raw"
   ]
  },
  {
   "cell_type": "code",
   "execution_count": null,
   "metadata": {},
   "outputs": [],
   "source": [
    "testfunclist = [testfunc_sin, testfunc_lin, testfunc_exp]\n",
    "y_vals_list = [y_vals_sin, y_vals_lin, y_vals_exp]\n",
    "namelist = [\"sin\",\"lin\",\"exp\"]"
   ]
  },
  {
   "cell_type": "code",
   "execution_count": null,
   "metadata": {},
   "outputs": [],
   "source": [
    "for el in zip(testfunclist,y_vals_list,namelist):\n",
    "    a,b,c = curve_fit_raw(x_vals, np.array(el[1]), el[0], loss=loss_func)\n",
    "    a,b,c = curve_fit_raw(x_vals, np.array(el[1]), el[0], loss=loss_func_w, weights = weights)\n",
    "    a,c = curve_fit(x_vals, np.array(el[1]), el[0], loss=loss_func)\n",
    "    print()\n",
    "    print()\n",
    "    print(\"function: \"+el[2])\n",
    "    print(\"parameters:\")\n",
    "    print(a)\n",
    "    print(\"covariance matrix:\")\n",
    "    print(c)\n",
    "    a,c = curve_fit(x_vals, np.array(el[1]), el[0], loss=loss_func_w, weights = weights)\n",
    "    a,c = curve_fit_BS(x_vals, np.array(el[1]), el[0], loss=loss_func)\n",
    "    print(\"parameters BS:\")\n",
    "    print(a)\n",
    "    print(\"errors BS:\")\n",
    "    print(c)\n",
    "    \n",
    "    a,c = curve_fit_BS(x_vals, np.array(el[1]), el[0], loss=loss_func_w, weights = weights)\n"
   ]
  },
  {
   "cell_type": "markdown",
   "metadata": {},
   "source": [
    "# initial parameters should be provided as tf.Variable"
   ]
  },
  {
   "cell_type": "code",
   "execution_count": null,
   "metadata": {},
   "outputs": [],
   "source": [
    "initial_parameters = [tf.Variable(1.),tf.Variable(1.),tf.Variable(1.)]"
   ]
  },
  {
   "cell_type": "code",
   "execution_count": null,
   "metadata": {},
   "outputs": [],
   "source": [
    "a,c = curve_fit(x_vals, np.array(y_vals_sin), testfunc_sin, initial_parameters=initial_parameters)"
   ]
  },
  {
   "cell_type": "markdown",
   "metadata": {},
   "source": [
    "# use Keras loss"
   ]
  },
  {
   "cell_type": "code",
   "execution_count": null,
   "metadata": {},
   "outputs": [],
   "source": [
    "lhuber = tf.keras.losses.Huber()"
   ]
  },
  {
   "cell_type": "code",
   "execution_count": null,
   "metadata": {},
   "outputs": [],
   "source": [
    "a,c = curve_fit(x_vals, np.array(y_vals_sin), testfunc_sin, loss = lhuber, initial_parameters=initial_parameters)"
   ]
  },
  {
   "cell_type": "code",
   "execution_count": null,
   "metadata": {},
   "outputs": [],
   "source": [
    "a"
   ]
  },
  {
   "cell_type": "markdown",
   "metadata": {},
   "source": [
    "# test many parameters"
   ]
  },
  {
   "cell_type": "code",
   "execution_count": null,
   "metadata": {},
   "outputs": [],
   "source": [
    "n_tests = 100\n",
    "y_lin_list = []\n",
    "y_sin_list = []\n",
    "y_exp_list = []\n",
    "for i in range(n_tests):\n",
    "    y_lin_list.append([])\n",
    "    y_sin_list.append([])\n",
    "    y_exp_list.append([])"
   ]
  },
  {
   "cell_type": "code",
   "execution_count": null,
   "metadata": {},
   "outputs": [],
   "source": [
    "a_lin = np.random.uniform(size = n_tests)\n",
    "b_lin = np.random.uniform(size = n_tests)\n",
    "sigma_lin = np.random.uniform(size = n_tests)\n",
    "\n",
    "a_exp = np.random.uniform(size = n_tests)\n",
    "b_exp = np.random.uniform(size = n_tests)\n",
    "sigma_exp = np.random.uniform(size = n_tests)\n",
    "\n",
    "a_sin = np.random.uniform(size = n_tests)\n",
    "b_sin = np.random.uniform(size = n_tests)\n",
    "c_sin = np.random.uniform(size = n_tests)\n",
    "sigma_sin = np.random.uniform(size = n_tests)"
   ]
  },
  {
   "cell_type": "code",
   "execution_count": null,
   "metadata": {},
   "outputs": [],
   "source": [
    "for idx,el in enumerate(zip(y_sin_list, y_lin_list, y_exp_list)):\n",
    "        for x in x_vals:\n",
    "            el[0].append(testfunc_sin(x, a_sin[idx], b_sin[idx], c_sin[idx])+np.random.normal(0,sigma_sin[idx]))\n",
    "            el[1].append(testfunc_lin(x, a_lin[idx], b_lin[idx])+np.random.normal(0,sigma_lin[idx]))\n",
    "            el[2].append(testfunc_exp(x, a_exp[idx], b_exp[idx])+np.random.normal(0,sigma_exp[idx]))"
   ]
  },
  {
   "cell_type": "code",
   "execution_count": null,
   "metadata": {},
   "outputs": [],
   "source": [
    "pars_out_sin = []\n",
    "pars_out_lin = []\n",
    "pars_out_exp = []\n",
    "errs_out_sin = []\n",
    "errs_out_lin = []\n",
    "errs_out_exp = []\n",
    "pars_out_sinBS = []\n",
    "pars_out_linBS = []\n",
    "pars_out_expBS = []\n",
    "errs_out_sinBS = []\n",
    "errs_out_linBS = []\n",
    "errs_out_expBS = []\n",
    "\n",
    "for i in range(n_tests):\n",
    "        print(i)\n",
    "        #a,b = curve_fit(x_vals, np.array(y_sin_list[i]), testfunc_sin)\n",
    "        #pars_out_sin.append(a)\n",
    "        #errs_out_sin.append(np.sqrt(np.diag(b)))\n",
    "        #a,b = curve_fit_BS(x_vals, np.array(y_sin_list[i]), testfunc_sin)\n",
    "        #pars_out_sinBS.append(a)\n",
    "        #errs_out_sinBS.append(b)\n",
    "        a,b = curve_fit(x_vals, np.array(y_lin_list[i]), testfunc_lin,num_step=50,learning_rate=0.4)\n",
    "        pars_out_lin.append(a)\n",
    "        errs_out_lin.append(np.sqrt(np.diag(b)))\n",
    "        a,b = curve_fit_BS(x_vals, np.array(y_lin_list[i]), testfunc_lin,num_step=50,learning_rate=0.4)\n",
    "        pars_out_linBS.append(a)\n",
    "        errs_out_linBS.append(b)\n",
    "        #a,b = curve_fit(x_vals, np.array(y_exp_list[i]), testfunc_exp)\n",
    "        #pars_out_exp.append(a)\n",
    "        #errs_out_exp.append(np.sqrt(np.diag(b)))\n",
    "        #a,b = curve_fit_BS(x_vals, np.array(y_exp_list[i]), testfunc_exp)\n",
    "        #pars_out_expBS.append(a)\n",
    "        #errs_out_expBS.append(b)\n"
   ]
  },
  {
   "cell_type": "code",
   "execution_count": null,
   "metadata": {},
   "outputs": [],
   "source": [
    "#np.array(pars_out_sin)[:,0]"
   ]
  },
  {
   "cell_type": "code",
   "execution_count": null,
   "metadata": {},
   "outputs": [],
   "source": [
    "dictlin = {\"a\": a_lin, \"b\": b_lin, \"a_pred\": np.array(pars_out_lin)[:,0], \"b_pred\": np.array(pars_out_lin)[:,1],\n",
    "          \"a_err\": np.array(errs_out_lin)[:,0], \"b_err\": np.array(errs_out_lin)[:,1],\n",
    "          \"a_predBS\": np.array(pars_out_linBS)[:,0], \"b_predBS\": np.array(pars_out_linBS)[:,1],\n",
    "          \"a_errBS\": np.array(errs_out_linBS)[:,0], \"b_errBS\": np.array(errs_out_linBS)[:,1]\n",
    "          }"
   ]
  },
  {
   "cell_type": "code",
   "execution_count": null,
   "metadata": {},
   "outputs": [],
   "source": [
    "#dfsin = pd.DataFrame(dictsin)\n",
    "dflin = pd.DataFrame(dictlin)\n",
    "#dfexp = pd.DataFrame(dictexp)"
   ]
  },
  {
   "cell_type": "code",
   "execution_count": null,
   "metadata": {},
   "outputs": [],
   "source": [
    "dflin.head()"
   ]
  },
  {
   "cell_type": "code",
   "execution_count": null,
   "metadata": {},
   "outputs": [],
   "source": [
    "import matplotlib.pyplot as plt"
   ]
  },
  {
   "cell_type": "code",
   "execution_count": null,
   "metadata": {},
   "outputs": [],
   "source": [
    "histo=plt.hist((dflin[\"a\"]-dflin[\"a_pred\"])/(dflin[\"a_err\"]/np.sqrt(npoints)), bins=50)"
   ]
  },
  {
   "cell_type": "code",
   "execution_count": null,
   "metadata": {},
   "outputs": [],
   "source": [
    "np.mean((dflin[\"a\"]-dflin[\"a_pred\"])/dflin[\"a_err\"]*np.sqrt(npoints-1))"
   ]
  },
  {
   "cell_type": "code",
   "execution_count": null,
   "metadata": {},
   "outputs": [],
   "source": [
    "np.std((dflin[\"a\"]-dflin[\"a_pred\"])/dflin[\"a_err\"]*np.sqrt(npoints-3))"
   ]
  },
  {
   "cell_type": "code",
   "execution_count": null,
   "metadata": {},
   "outputs": [],
   "source": []
  }
 ],
 "metadata": {
  "kernelspec": {
   "display_name": "Python 3",
   "language": "python",
   "name": "python3"
  },
  "language_info": {
   "codemirror_mode": {
    "name": "ipython",
    "version": 3
   },
   "file_extension": ".py",
   "mimetype": "text/x-python",
   "name": "python",
   "nbconvert_exporter": "python",
   "pygments_lexer": "ipython3",
   "version": "3.6.9"
  }
 },
 "nbformat": 4,
 "nbformat_minor": 4
}
